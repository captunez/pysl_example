{
 "cells": [
  {
   "cell_type": "markdown",
   "metadata": {},
   "source": [
    "## 1.1.1 Functions"
   ]
  },
  {
   "cell_type": "code",
   "execution_count": null,
   "metadata": {
    "collapsed": true
   },
   "outputs": [],
   "source": [
    "### Capitalize all words in a string\n",
    "\n",
    "import string\n",
    "s = 'The quick brown fox jumped over the lazy dog'\n",
    "print s"
   ]
  },
  {
   "cell_type": "code",
   "execution_count": 2,
   "metadata": {
    "collapsed": false
   },
   "outputs": [
    {
     "name": "stdout",
     "output_type": "stream",
     "text": [
      "The Quick Brown Fox Jumped Over The Lazy Dog\n"
     ]
    }
   ],
   "source": [
    "print string.capwords(s)"
   ]
  },
  {
   "cell_type": "code",
   "execution_count": 3,
   "metadata": {
    "collapsed": false
   },
   "outputs": [
    {
     "name": "stdout",
     "output_type": "stream",
     "text": [
      "Th3 qu1ck 620wn f0x jum93d 0v32 7h3 142y d06\n"
     ]
    }
   ],
   "source": [
    "### Change one set of characters to another\n",
    "\n",
    "import string\n",
    "leet = string.maketrans('abegiloprstz', '463611092572')\n",
    "s = 'The quick brown fox jumped over the lazy dog'\n",
    "print s.translate(leet)"
   ]
  },
  {
   "cell_type": "markdown",
   "metadata": {},
   "source": [
    "## 1.1.2 Templates"
   ]
  },
  {
   "cell_type": "code",
   "execution_count": 18,
   "metadata": {
    "collapsed": false
   },
   "outputs": [
    {
     "name": "stdout",
     "output_type": "stream",
     "text": [
      "TEMPLATE: \n",
      "Variable    : foo\n",
      "Escape    : $\n",
      "Variable in text: fooiable\n",
      "\n"
     ]
    }
   ],
   "source": [
    "import string\n",
    "\n",
    "values = {'var': 'foo'}\n",
    "t = string.Template(\"\"\"\n",
    "Variable    : $var\n",
    "Escape    : $$\n",
    "Variable in text: ${var}iable\n",
    "\"\"\")\n",
    "\n",
    "print 'TEMPLATE:', t.substitute(values)"
   ]
  },
  {
   "cell_type": "code",
   "execution_count": 19,
   "metadata": {
    "collapsed": false
   },
   "outputs": [
    {
     "name": "stdout",
     "output_type": "stream",
     "text": [
      "INTERPOLATION \n",
      "Variable    : foo\n",
      "Escape    : %\n",
      "Variable in text: fooiable\n",
      "\n"
     ]
    }
   ],
   "source": [
    "s = \"\"\"\n",
    "Variable    : %(var)s\n",
    "Escape    : %%\n",
    "Variable in text: %(var)siable\n",
    "\"\"\"\n",
    "print 'INTERPOLATION', s%values"
   ]
  },
  {
   "cell_type": "code",
   "execution_count": 20,
   "metadata": {
    "collapsed": false
   },
   "outputs": [
    {
     "name": "stdout",
     "output_type": "stream",
     "text": [
      "TEMPLATE: ERROR: 'missing'\n",
      "safe_substitute() \n",
      "Variable    : foo\n",
      "Escape    : $missing\n",
      "Variable in text: fooiable\n",
      "\n"
     ]
    }
   ],
   "source": [
    "t = string.Template(\"\"\"\n",
    "Variable    : $var\n",
    "Escape    : $missing\n",
    "Variable in text: ${var}iable\n",
    "\"\"\")\n",
    "try:\n",
    "    print 'TEMPLATE:', t.substitute(values)\n",
    "except KeyError, err:\n",
    "    print 'ERROR:', str(err)\n",
    "print 'safe_substitute()', t.safe_substitute(values)"
   ]
  },
  {
   "cell_type": "markdown",
   "metadata": {},
   "source": [
    "### Advanced Templates"
   ]
  },
  {
   "cell_type": "code",
   "execution_count": 25,
   "metadata": {
    "collapsed": false
   },
   "outputs": [
    {
     "name": "stdout",
     "output_type": "stream",
     "text": [
      "Modified ID pattern:\n",
      "\n",
      "Delimiter: %\n",
      "Replaced: replaced\n",
      "Ignored: %notunderscored\n",
      "\n"
     ]
    }
   ],
   "source": [
    "import string\n",
    "\n",
    "template_text = '''\n",
    "Delimiter: %%\n",
    "Replaced: %with_underscore\n",
    "Ignored: %notunderscored\n",
    "'''\n",
    "\n",
    "d = {'with_underscore':'replaced',\n",
    "     'notunderscored':'not replaced',\n",
    "     }\n",
    "\n",
    "class MyTemplate(string.Template):\n",
    "    delimiter = '%'\n",
    "    idpattern = '[a-z]+_[a-z]+'\n",
    "\n",
    "t = MyTemplate(template_text)\n",
    "print 'Modified ID pattern:'\n",
    "print t.safe_substitute(d)"
   ]
  },
  {
   "cell_type": "code",
   "execution_count": 28,
   "metadata": {
    "collapsed": false
   },
   "outputs": [
    {
     "data": {
      "text/plain": [
       "re.compile(r'\\n    \\%(?:\\n      (?P<escaped>\\%) |   # Escape sequence of two delimiters\\n      (?P<named>[a-z]+_[a-z]+)      |   # delimiter and a Python identifier\\n      {(?P<braced>[a-z]+_[a-z]+)}   |   # delimiter and a braced identifier\\n      (?P<invalid>)              # Other ill-formed delimiter exprs\\n    )\\n    ',\n",
       "re.IGNORECASE|re.VERBOSE)"
      ]
     },
     "execution_count": 28,
     "metadata": {},
     "output_type": "execute_result"
    }
   ],
   "source": [
    "t.pattern"
   ]
  },
  {
   "cell_type": "code",
   "execution_count": null,
   "metadata": {
    "collapsed": true
   },
   "outputs": [],
   "source": []
  }
 ],
 "metadata": {
  "anaconda-cloud": {},
  "kernelspec": {
   "display_name": "Python [conda root]",
   "language": "python",
   "name": "conda-root-py"
  },
  "language_info": {
   "codemirror_mode": {
    "name": "ipython",
    "version": 2
   },
   "file_extension": ".py",
   "mimetype": "text/x-python",
   "name": "python",
   "nbconvert_exporter": "python",
   "pygments_lexer": "ipython2",
   "version": "2.7.12"
  }
 },
 "nbformat": 4,
 "nbformat_minor": 1
}
