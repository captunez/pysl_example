{
 "cells": [
  {
   "cell_type": "markdown",
   "metadata": {},
   "source": [
    "## Purpose\n",
    "Formatting text by adjusting where line breaks occur in a paragraph"
   ]
  },
  {
   "cell_type": "code",
   "execution_count": 6,
   "metadata": {
    "collapsed": false
   },
   "outputs": [
    {
     "name": "stdout",
     "output_type": "stream",
     "text": [
      "No dedent:\n",
      "\n",
      " The textwrap module can be used to format text\n",
      "for output in  situations where pretty-printing is\n",
      "desired. It offers programmatic functionality\n",
      "similar to the paragraph wrapping  or filling\n",
      "features found in many text editors.\n"
     ]
    }
   ],
   "source": [
    "# Filling Paragraphs\n",
    "\n",
    "import textwrap\n",
    "\n",
    "sample_text = '''\n",
    "The textwrap module can be used to format text for output in \n",
    "situations where pretty-printing is desired. It offers\n",
    "programmatic functionality similar to the paragraph wrapping \n",
    "or filling features found in many text editors.\n",
    "'''\n",
    "\n",
    "print 'No dedent:\\n'\n",
    "print textwrap.fill(sample_text, width=50)"
   ]
  },
  {
   "cell_type": "code",
   "execution_count": 8,
   "metadata": {
    "collapsed": false
   },
   "outputs": [
    {
     "name": "stdout",
     "output_type": "stream",
     "text": [
      "Dedented:\n",
      "The textwrap module can be used to format text for output in \n",
      "situations where pretty-printing is desired. It offers\n",
      "programmatic functionality similar to the paragraph wrapping \n",
      "or filling features found in many text editors.\n"
     ]
    }
   ],
   "source": [
    "# Removing Existing Indendation\n",
    "dedented_text = textwrap.dedent(sample_text).strip()\n",
    "print 'Dedented:'\n",
    "print dedented_text"
   ]
  },
  {
   "cell_type": "code",
   "execution_count": 11,
   "metadata": {
    "collapsed": false
   },
   "outputs": [
    {
     "name": "stdout",
     "output_type": "stream",
     "text": [
      "45 Columns:\n",
      "\n",
      "The textwrap module can be used to format\n",
      "text for output in  situations where pretty-\n",
      "printing is desired. It offers programmatic\n",
      "functionality similar to the paragraph\n",
      "wrapping  or filling features found in many\n",
      "text editors.\n",
      "\n",
      "70 Columns:\n",
      "\n",
      "The textwrap module can be used to format text for output in\n",
      "situations where pretty-printing is desired. It offers programmatic\n",
      "functionality similar to the paragraph wrapping  or filling features\n",
      "found in many text editors.\n",
      "\n"
     ]
    }
   ],
   "source": [
    "for width in [45, 70]:\n",
    "    print '%d Columns:\\n' %width\n",
    "    print textwrap.fill(dedented_text, width=width)\n",
    "    print"
   ]
  },
  {
   "cell_type": "code",
   "execution_count": 14,
   "metadata": {
    "collapsed": false
   },
   "outputs": [
    {
     "name": "stdout",
     "output_type": "stream",
     "text": [
      "The textwrap module can be used to format text for\n",
      "    output in  situations where pretty-printing is\n",
      "    desired. It offers programmatic functionality\n",
      "    similar to the paragraph wrapping  or filling\n",
      "    features found in many text editors.\n"
     ]
    }
   ],
   "source": [
    "# Hanging Indents\n",
    "print textwrap.fill(dedented_text,\n",
    "                    initial_indent='',\n",
    "                    subsequent_indent=' '*4,\n",
    "                    width=50,\n",
    "                    )"
   ]
  },
  {
   "cell_type": "code",
   "execution_count": null,
   "metadata": {
    "collapsed": true
   },
   "outputs": [],
   "source": []
  }
 ],
 "metadata": {
  "kernelspec": {
   "display_name": "Python [conda root]",
   "language": "python",
   "name": "conda-root-py"
  },
  "language_info": {
   "codemirror_mode": {
    "name": "ipython",
    "version": 2
   },
   "file_extension": ".py",
   "mimetype": "text/x-python",
   "name": "python",
   "nbconvert_exporter": "python",
   "pygments_lexer": "ipython2",
   "version": "2.7.12"
  }
 },
 "nbformat": 4,
 "nbformat_minor": 1
}
